{
  "nbformat": 4,
  "nbformat_minor": 0,
  "metadata": {
    "colab": {
      "name": "HW2.ipynb",
      "provenance": [],
      "collapsed_sections": []
    },
    "kernelspec": {
      "name": "python3",
      "display_name": "Python 3"
    }
  },
  "cells": [
    {
      "cell_type": "markdown",
      "metadata": {
        "id": "0KKC3O3QiIi4"
      },
      "source": [
        "#COMPSCI 546: Applied Information Retrieval\n",
        "##Assignment 2: Text Processing and Indexing (Total : 100 points)\n",
        "\n"
        
      ]
    },
    {
      "cell_type": "markdown",
      "metadata": {
        "id": "JuVqvXU6ijXi"
      },
      "source": [
        "# Download input files"
      ]
    },
    {
      "cell_type": "markdown",
      "metadata": {
        "id": "SMU5d1a-jCG-"
      },
      "source": [
        "Please execute the cell below to download the input files. "
      ]
    },
    {
      "cell_type": "code",
      "metadata": {
        "id": "YM1igiBMcIB8"
      },
      "source": [
        "\n",
        "import os\n",
        "from pydrive.auth import GoogleAuth\n",
        "from pydrive.drive import GoogleDrive\n",
        "from google.colab import auth\n",
        "from oauth2client.client import GoogleCredentials\n",
        "\n",
        "auth.authenticate_user()\n",
        "gauth = GoogleAuth()\n",
        "gauth.credentials = GoogleCredentials.get_application_default()\n",
        "drive = GoogleDrive(gauth)\n",
        "\n",
        "\n",
        "import os\n",
        "import zipfile\n",
        "\n",
        "download = drive.CreateFile({'id': '1YoRCcM8bt3Dy9mgsCwYoy9EpWQzGjOyj'})\n",
        "download.GetContentFile('HW02.zip')\n",
        "\n",
        "with zipfile.ZipFile('HW02.zip', 'r') as zip_file:\n",
        "    zip_file.extractall('./')\n",
        "os.remove('HW02.zip')\n",
        "# We will use hw1 as our working directory\n",
        "os.chdir('HW02')\n",
        "\n",
        "#Setting the input file\n",
        "col = \"antique-collection.tok.clean_kstem\""
      ],
      "execution_count": null,
      "outputs": []
    },
    {
      "cell_type": "code",
      "source": [
        "import pandas as pd\n",
        "pid = []\n",
        "intpid = []\n",
        "passage = []\n",
        "i = 1\n",
        "docMap = {}\n",
        "with open(col) as f:\n",
        "  for line in f:\n",
        "    temp = line.rstrip().split(\"\\t\")\n",
        "    pid.append(temp[0])\n",
        "    passage.append(temp[1])\n",
        "    intpid.append(i)\n",
        "    docMap[i] = temp[0]\n",
        "    i += 1\n",
        "     \n",
        "\n",
        "pid_struct = pd.DataFrame({'intPid': intpid, 'Passage_id': pid, 'passage': passage})\n",
        "\n"
      ],
      "metadata": {
        "id": "ScDh4BLhRqdG"
      },
      "execution_count": null,
      "outputs": []
    },
    {
      "cell_type": "markdown",
      "metadata": {
        "id": "mMDYX_KcWm8P"
      },
      "source": [
        "# 1 : Inverted Index Construction (40 points)\n",
        "We use the collection from the ANTIQUE  [https://arxiv.org/pdf/1905.08957.pdf] dataset for this assignment. As described in the previous assignment, this is a passage retrieval dataset and the collection consists of passages. Each row of the file consists of the following information:\n",
        "\n",
        "*passage_id  passage_text*\n",
        "\n",
        "The passage_id and passage_text information is tab ('\\t') separated. The passage text has been pre-processed to remove punctutation, tokenised and stemmed using the Krovetz stemmer. The terms in the passage text can be accessed by splitting the text based on space. \n",
        "\n",
        "\n",
        "\n"
      ]
    },
    {
      "cell_type": "markdown",
      "metadata": {
        "id": "1ZNc5mELxTwk"
      },
      "source": [
        "Question 1.1 (15 points)\n",
        "\n",
        "In the cell below, you have to implement the following:\n",
        "\n",
        "1) Create new integer passage ids ranging from [1-num of passages in the collection], corresponding to each passageId given in the input collection file, for eg: the passageId in the first row would correspond to 1, the one on the second row would correspond to 2 and so on. Please store this in a data structure which could be accessed in subsequent cells. Please note that the collection could contain passageIds with no corresponding text information. While reading the collection file, you may need to handle this scenario.\n",
        "\n",
        "2) An inverted index with count information. An example is given in Section 5.3.2 of the reference book : \"Search Engines: Information Retrieval in Practice\". A typical entry (posting) in this type of inverted index would consist of a term followed by the set of passages in which it occurs along with number of times it occured within each of them. For eg: if a term \"fish\" occured in two passages with ids: \"4\" and \"10\" and corresponding frequencies \"1\" and \"2\", the entry for \"fish\" would look like this.\n",
        "\n",
        "*fish  4:1 10:2*\n",
        "\n",
        "Please note that the passage ids within the index must correspond to the newly created passage ids. For a particular term, the passage ids must be sorted in ascending order (small->large), like the example given above (where \"4\" is less than \"10\"). \n",
        "\n",
        "Besides the term count information, the index must also contain the statistics such as total number of tokens in the collections and total number of unique terms.\n",
        "\n",
        "Real-world indices are typically very large and cannot be stored in memory, however the collection provided for this assignment is fairly small and can be easily loaded into memory.\n"
      ]
    },
    {
      "cell_type": "code",
      "metadata": {
        "id": "2EBjWQwXW5d_",
        "colab": {
          "base_uri": "https://localhost:8080/"
        },
        "outputId": "967be8eb-b64f-4e0e-cd63-370ebe816f38"
      },
      "source": [
        "''' \n",
        "In this function, create inverted index with count information  \n",
        "Return Variables: \n",
        "indexCount - Datastructure used for holding the inverted index with count information. \n",
        "             Please note that besides the term posting list, you must also store information \n",
        "             such as total number of tokens in the collections, total number of unique terms\n",
        "             and total number of unique passages in the collection (This would also include any \n",
        "               potential passagIds with empty text).\n",
        "numPassages - Total number of unique passages in the collection. \n",
        "              You can return the count stored within the index.\n",
        "docMap -  datastructure which maps newly created passage ids to original passage ids. \n",
        "          ie eg: 1 ->\"2020338_0\", 2->\"2020338_1\"               \n",
        "'''\n",
        "\n",
        "def createIndexCount(col):\n",
        "    #enter your code here\n",
        "\n",
        "    postingList = {}\n",
        "    totalTerms = 0\n",
        "    for index, rows in pid_struct.iterrows():\n",
        "      intpid = index + 1\n",
        "      p = rows['passage'].split(\" \")\n",
        "      for i in p:\n",
        "        if i not in postingList:\n",
        "          postingList[i] = { 'termstat' : {'df' : 1, 'ctf' : 1}, 'postlist': {intpid : 1} }\n",
        "          totalTerms += 1\n",
        "        else: \n",
        "          keyval = postingList[i]\n",
        "          keyval['termstat']['ctf'] += 1\n",
        "          totalTerms += 1\n",
        "          if intpid in keyval['postlist']:\n",
        "            keyval['postlist'][intpid] += 1\n",
        "          else:\n",
        "            keyval['termstat']['df'] += 1\n",
        "            keyval['postlist'][intpid] = 1\n",
        "    uniqTerms = len(postingList)\n",
        "    numPassages = pid_struct['intPid'].iloc[-1]\n",
        "    indexCount = {'totalTerms': totalTerms, 'uniqTerms': uniqTerms, 'numPassages': numPassages, 'Terms': postingList}    \n",
        "    return indexCount, numPassages, docMap\n",
        "\n",
        "''' this is an example. You can return additional information based on your implementation.'''\n",
        "\n",
        "indexCount, numPassages, docMap = createIndexCount(col) \n",
        "\n",
        "#sanity check\n",
        "print ('Total number of passages in the collection :{0}'.format(numPassages))\n",
        "   "
      ],
      "execution_count": null,
      "outputs": [
        {
          "output_type": "stream",
          "name": "stdout",
          "text": [
            "Total number of passages in the collection :403492\n"
          ]
        }
      ]
    },
    {
      "cell_type": "markdown",
      "metadata": {
        "id": "uRdn9kflzCRP"
      },
      "source": [
        "Question 1.2 (10 points)\n",
        "\n",
        "Please give a short description of your implementation of the index including how the postings are stored within the index.  "
      ]
    },
    {
      "cell_type": "markdown",
      "metadata": {
        "id": "wFvJUJRur9k6"
      },
      "source": [
        "**Enter your answer here!**\n",
        "\n",
        "In my implementation of inverted index, the data structure that is used to store the posting list and term statistics is a dictionary. \n",
        "\n",
        "First, in pid_struct the mapping of each passage_id to its integer equivalent passage id is done. Along with integer passage id, the passage is also stored in the data frames corresponding to each passage_id. \n",
        "\n",
        "Then, a 'postingList' dictionary is created wherein, on iterating over each value of passage id, the corresponding passage is read. Then, the passage is split based on empty space and then each word obtained after the split is added as a key to the 'postingList' dictionary. The corresponding value for this term key is another dictionary containing the term statistics parameters. This value dictionary consists of two keys - 'termstat' and 'postlist'. 'termstat' consists of key value pairs for 'df' - document frequency and 'ctf' - collection term frequency. 'df' corresponds to the number of passages in which this term was found and 'ctf' corresponds to the total number of occurrences of that term in the whole collection across all passages. In 'postList', key value pairs of the integer passage id and the number of times the term was found in the corresponding passage is stored as the value. Here, they are stored in an orderly sorted order with the passage ids in an ascending order. The condition for empty passages is also taken care of here, as no new term will be added. \n",
        "\n",
        "Here, I am using a double for loop. The outer for loop is to loop over passages and the inner for loop is to loop over all the terms in each passage after they are split. So, if a new term which is not present in the 'postingList' dictionary is found in the passage, then a new entry is created in the dictionary. Else, if it already exists in the dictionary then, the count of the term is increased and the corresponding passage id is entered in the dictionary structure. \n",
        "\n",
        "Finally, once all the passages have been parsed, the term statistics are calculated. The 'uniqTerms' gives the number of unique terms that are present in the whole collection. It is basically the length of the 'postingList' dictionary as it contains all the unique terms as keys. 'numPassages' is the length of the passage ids which are all unique, as all the passages are unique themselves. 'totalTerms' is the summation of the 'ctf' value for each of the terms, that is calculated while looping over each term in the passage. These term stats are then added as key value pairs in the inverted index dictionary called 'indexCount'.\n",
        "\n",
        "'docMap' consists of a dictionary with the key as the integer passage id and the value to be the original passage id."
      ]
    },
    {
      "cell_type": "markdown",
      "metadata": {
        "id": "yae5Dwy9BomX"
      },
      "source": [
        "Question 1.3 (10 points)\n",
        "\n",
        "In the cell below, you have to implement an index with delta encoding. Please note that delta encoding is done only for passage ids and not for term count information. Instead of reading through the entire collection file again, you can use the index created above to generate the new index."
      ]
    },
    {
      "cell_type": "code",
      "metadata": {
        "id": "216TsVQ4BbEX",
        "colab": {
          "base_uri": "https://localhost:8080/"
        },
        "outputId": "ca180093-a87d-4a3d-851b-0d8219e9fd35"
      },
      "source": [
        "''' \n",
        "In this function, create inverted index with count information and delta encoded passage ids.  \n",
        "Return Variables: \n",
        "indexDelta - Datastructure used for holding the new inverted index with count information.\n",
        "             Please note that you must also store information such as total number of tokens, \n",
        "             total number of unique terms and total number of unique passages in the collection.\n",
        "             (This would also include any potential passagIds with empty text)\n",
        "numPassages - Total number of unique passages in the collection. \n",
        "              You can return the count stored within the index. \n",
        "'''\n",
        "\n",
        "import copy\n",
        "\n",
        "def createIndexDeltaCount(indexCount):\n",
        "    #enter your code here\n",
        "    indexDelta = copy.deepcopy(indexCount)\n",
        "    terms = indexDelta['Terms']\n",
        "    for key in terms:\n",
        "      termval = key\n",
        "      postList = terms[key]['postlist']\n",
        "      start = 0\n",
        "      postArr = []\n",
        "      for key1, val1 in postList.items():\n",
        "        new_key = key1 - start\n",
        "        start = key1\n",
        "        postArr.append((new_key, val1))\n",
        "      indexDelta['Terms'][key]['postlist'] = postArr\n",
        "\n",
        "    numPassages = pid_struct['intPid'].iloc[-1] \n",
        "\n",
        "    return indexDelta, numPassages\n",
        "\n",
        "''' this is an example. You can return additional information based on your implementation.'''\n",
        "indexDelta, numPassages = createIndexDeltaCount(indexCount) \n",
        "\n",
        "#sanity check\n",
        "print ('Total number of passages in the collection :{0}'.format(numPassages))"
      ],
      "execution_count": null,
      "outputs": [
        {
          "output_type": "stream",
          "name": "stdout",
          "text": [
            "Total number of passages in the collection :403492\n"
          ]
        }
      ]
    },
    {
      "cell_type": "markdown",
      "metadata": {
        "id": "uaHaHEkHQuEk"
      },
      "source": [
        "Question 1.4 (5 points)\n",
        "\n",
        "Please give a short description of delta encoding."
      ]
    },
    {
      "cell_type": "markdown",
      "metadata": {
        "id": "N2VlYGR3Q497"
      },
      "source": [
        "**Enter your answer here!**\n",
        "\n",
        "The motive behind delta encoding is that those terms that occur very frequently in a lot of passages will have to store the entire passage ids for each passage in which they are found. This is going to take up a lot of space, especially when the terms are found in consecutive passages, it is like storing the same passage ids that are a byte long with only a differnce in one of the byte. \n",
        "\n",
        "So, instead of storing the whole passage id in the postingList, it is more effective to store the difference of the passage ids in the postingList. For example - the term 'school' occurs in the passage ids - 1000, 1001, 1002, 1005, 1009, 1020. It is going to be a lot of redundant information if we store each of the passage ids. It is also going to take up a lot more memory. That's why in delta encoding, the difference of the values of the passage ids are taken and stored. So, in the delta encoding postingList, the values stored will be - 1000, 1, 1, 3, 4, 11. Thus, only smaller values of the passage ids are to be stored. Given that while accessing a posting list, it is done only in a sequential manner, it is easy to decode this delta encoded passage ids, by just summing up the values up until before the target rank. \n",
        "\n",
        "Delta encoding is very useful especillay for high frequency terms. But for those terms that occur less frequently, the passage ids (long or short) have to be stored. "
      ]
    },
    {
      "cell_type": "markdown",
      "metadata": {
        "id": "j4FJ4CDbQdMH"
      },
      "source": [
        "# 2 : Accessing Index Information (30 points) "
      ]
    },
    {
      "cell_type": "markdown",
      "metadata": {
        "id": "uVSjsgcI9BQy"
      },
      "source": [
        "\n",
        "\n",
        "In the cell below, implement functions which would take an index and term as input and access the passage id and count information. For the delta encoded version, you have to decode the delta encoding. \n"
      ]
    },
    {
      "cell_type": "code",
      "metadata": {
        "id": "X5WZFYYi_JC7",
        "colab": {
          "base_uri": "https://localhost:8080/"
        },
        "outputId": "43d63e9f-3340-4a09-bff1-d07fcf4831d8"
      },
      "source": [
        "''' \n",
        "In this function, access the inverted index with count information and return passage id\n",
        "and and count information. \n",
        "Return Variables: \n",
        "termFreqIndexCount - Number of passages containing input term \"term\" \n",
        "passageListCount -  First 5 passageIds(original passage ids) in the postings list.\n",
        "                    To return original passage ids, you can use docMap. \n",
        "'''\n",
        "def accessTermInfoIndex(term, indexCount, docMap):\n",
        "  #enter your code here\n",
        "  #term is to be accessed\n",
        "  termFreqIndexCount = indexCount['Terms'][term]['termstat']['df']\n",
        "\n",
        "  #top 5 passage IDs for term\n",
        "  k = 5\n",
        "  pids = indexCount['Terms'][term]['postlist']\n",
        "  topPid = dict(list(pids.items())[0: k]) \n",
        "  passageListCount = []\n",
        "  for key in topPid.keys():\n",
        "    passageListCount.append(docMap[key])\n",
        "  return termFreqIndexCount, passageListCount     \n",
        "\n",
        "''' \n",
        "In this function, access the inverted index with count information and delta encoded passage ids \n",
        "and return passage ids and count information. \n",
        "Return Variables: \n",
        "termFreqIndexCount - Number of passages containing input term \"term\" \n",
        "passageListCount -  First 5 passageIds(original passage ids) in the postings list for the input \"term\". \n",
        "                    You have to decode the delta encoding and then map to original ids using docMap.    \n",
        "'''\n",
        "def accessTermInfoIndexDelta(term, indexDelta, docMap):\n",
        "  #enter your code here\n",
        "  #term is to be accessed\n",
        "  termFreqIndexDelta = indexDelta['Terms'][term]['termstat']['df']\n",
        "\n",
        "  #top 5 passage IDs for term\n",
        "  k = 5\n",
        "  pids = indexDelta['Terms'][term]['postlist']\n",
        "  topPid = pids[:k]\n",
        "  passageListDelta = []\n",
        "  start = 0\n",
        "  for tup in topPid:\n",
        "    pid = start + tup[0]\n",
        "    passageListDelta.append(docMap[pid])\n",
        "    start = pid\n",
        "\n",
        "  return termFreqIndexDelta, passageListDelta \n",
        "\n",
        "\n",
        "termFreqIndexCount, passageListCount  = accessTermInfoIndex(\"computer\",indexCount,docMap)\n",
        "termFreqIndexDelta, passageListDelta   = accessTermInfoIndexDelta(\"computer\",indexDelta,docMap)\n",
        "\n",
        "# check output for a term. Please make that the final pdf displays all the outputs.\n",
        "print (\"Index term information\")\n",
        "print ('Total number of Passages containing the term \"computer\" :{0}'.format(termFreqIndexCount))\n",
        "print ('First 5 passages with the term \"computer\" :{0}'.format(passageListCount))\n",
        "print (\"**************************************************************************************\")\n",
        "print (\"Index term information with delta encoding\")\n",
        "print ('Total number of Passages containing the term \"computer\" :{0}'.format(termFreqIndexDelta))\n",
        "print ('First 5 passages with the term \"computer\" :{0}'.format(passageListDelta))\n"
      ],
      "execution_count": null,
      "outputs": [
        {
          "output_type": "stream",
          "name": "stdout",
          "text": [
            "Index term information\n",
            "Total number of Passages containing the term \"computer\" :2718\n",
            "First 5 passages with the term \"computer\" :['629558_0', '1528314_0', '3384343_0', '1873488_1', '2084699_0']\n",
            "**************************************************************************************\n",
            "Index term information with delta encoding\n",
            "Total number of Passages containing the term \"computer\" :2718\n",
            "First 5 passages with the term \"computer\" :['629558_0', '1528314_0', '3384343_0', '1873488_1', '2084699_0']\n"
          ]
        }
      ]
    },
    {
      "cell_type": "markdown",
      "metadata": {
        "id": "3zr1CQYQW_x2"
      },
      "source": [
        "# 3 : Display Index Statistics (10 points)\n",
        "\n",
        "\n",
        "In the cell below, please create APIs to access various statistics from the index. "
      ]
    },
    {
      "cell_type": "code",
      "metadata": {
        "id": "LdIXk5IN0iiB",
        "colab": {
          "base_uri": "https://localhost:8080/"
        },
        "outputId": "d2fdf9d5-9f19-468d-cc2a-54c2b5b42c9f"
      },
      "source": [
        "''' \n",
        "In this function, access the inverted index with count information and return term statistics\n",
        "Return Variables: \n",
        "totNumTerms - Total number of tokens in the collection stored in the index\n",
        "totNumUniqueTerms -  Total number of unique terms stored in the index \n",
        "'''\n",
        "\n",
        "def displayIndexStats(indexCount):\n",
        "    #enter your code here\n",
        "    totNumTerms = indexCount['totalTerms']\n",
        "    totNumUniqueTerms = indexCount['uniqTerms']\n",
        "\n",
        "    return totNumTerms, totNumUniqueTerms\n",
        "\n",
        "''' \n",
        "In this function, access the inverted index with count information and delta encoded passagesIds \n",
        "and return term statistics\n",
        "Return Variables: \n",
        "totNumTerms - Total number of tokens in the collection stored in the index\n",
        "totNumUniqueTerms -  Total number of unique terms stored in the index \n",
        "'''\n",
        "def displayIndexDeltaStats(indexDelta):\n",
        "    #enter your code here\n",
        "    totNumTerms = indexDelta['totalTerms']\n",
        "    totNumUniqueTerms = indexDelta['uniqTerms']\n",
        "\n",
        "    return totNumTerms, totNumUniqueTerms\n",
        "\n",
        "totNumTermsIndexCount, totNumUniqueTermsIndexCount = displayIndexStats(indexCount)\n",
        "totNumTermsIndexDelta, totNumUniqueTermsIndexDelta = displayIndexDeltaStats(indexDelta)\n",
        "\n",
        "#printing the output\n",
        "print (\"Index Statistics from IndexCount\")\n",
        "print ('Total number of Unique Terms :{0}'.format(totNumUniqueTermsIndexCount))\n",
        "print ('Total number of tokens :{0}'.format(totNumTermsIndexCount))\n",
        "print (\"**************************************************************************************\")\n",
        "print (\"Index Statistics from IndexDelta\")\n",
        "print ('Total number of Unique Terms :{0}'.format(totNumUniqueTermsIndexDelta))\n",
        "print ('Total number of tokens :{0}'.format(totNumTermsIndexDelta))"
      ],
      "execution_count": null,
      "outputs": [
        {
          "output_type": "stream",
          "name": "stdout",
          "text": [
            "Index Statistics from IndexCount\n",
            "Total number of Unique Terms :149467\n",
            "Total number of tokens :16590057\n",
            "**************************************************************************************\n",
            "Index Statistics from IndexDelta\n",
            "Total number of Unique Terms :149467\n",
            "Total number of tokens :16590057\n"
          ]
        }
      ]
    },
    {
      "cell_type": "markdown",
      "metadata": {
        "id": "2Rt9SrEGXXRS"
      },
      "source": [
        "# 4 : Zipf's law (20 points)\n",
        "\n",
        "Question 4.1 (5 points)\n",
        "\n",
        "Briefly describe Zipf's law."
      ]
    },
    {
      "cell_type": "markdown",
      "metadata": {
        "id": "43aXA7wMGSDv"
      },
      "source": [
        "**Enter your answer here!**\n",
        "\n",
        "Zipf's law was described because of the fact that the distribution of words in a corpus is very skewed. There a few words which have really high frequency of occurrence whereas many words which have low frequency of ocurrence. It's observed that in a large text, that about one half of all the unique words occur only once. \n",
        "\n",
        "This distribution is described by Zipf's law, which states that the frequency of occurrence of the rth most common word is inversely proportional to its rank (based on frequency). Mathematically, the rank (r) of a word multiplied by it's frequency of occurrence (f) in the collection is approximately a constant (k).\n",
        "\n",
        "$r . f = k$\n",
        "\n",
        "When talking in terms of the probability of occurrence of a word, Zipf's law states that the product of the rank (r) of a word and it's probability of occurrence ($P_r$) also approximates to a constant (c). Probability is nothing but the frequency of occurrence of the term divided by the total number of occurrences of words in the collection.\n",
        "\n",
        "\n",
        "$r . P_r = c$\n",
        "\n",
        "\n"
      ]
    },
    {
      "cell_type": "markdown",
      "metadata": {
        "id": "MCPhnRs1GXSE"
      },
      "source": [
        "Question 4.2 (10 points)\n",
        "\n",
        "In the cell below, find the frequency of terms in the vocabulary. Convert these to probability values by dividing the term frequency by the total number of tokens.  Also display the rank*probability values for the top 20 most frequent terms (sorted with respect to their frequency in descending order) where rank corresponds to the frequency ranking of the terms.\n"
      ]
    },
    {
      "cell_type": "code",
      "metadata": {
        "id": "wMl413BTG_e8",
        "colab": {
          "base_uri": "https://localhost:8080/"
        },
        "outputId": "9306142d-02c7-4be3-8b92-ca75479d952c"
      },
      "source": [
        "''' \n",
        "In this function, calculate term probability and rank*probability values.\n",
        "Return Variables: \n",
        "termProb - term probabilities of all terms in the vocabulary\n",
        "rtermProb -  product of rank and probabilities of top 20 most frequent terms\n",
        "'''\n",
        "from operator import itemgetter\n",
        "\n",
        "def zipf(indexCount):\n",
        "  #enter your code here\n",
        "  #term probability\n",
        "  terms = indexCount['Terms']\n",
        "  totalTokens = indexCount['totalTerms']\n",
        "  termProb = {}\n",
        "  count = 0\n",
        "  for key in terms:\n",
        "    ctf = terms[key]['termstat']['ctf']\n",
        "    prob = ctf / totalTokens\n",
        "    termProb[key] = prob\n",
        "    count += prob\n",
        "\n",
        "  N = 20\n",
        "  res = dict(sorted(termProb.items(), key = itemgetter(1), reverse = True)[:N])\n",
        "  rank = 1\n",
        "  for key in res:\n",
        "    res[key] = res[key] * rank\n",
        "    rank += 1\n",
        "  rtermProb = res\n",
        "  \n",
        "  return  termProb, rtermProb\n",
        "\n",
        "# You can pass any additional variables needed for the calculation\n",
        "termProb, rtermProb = zipf(indexCount)\n",
        "\n",
        "'''print the rank* term probabilities. Please make that the final pdf displays all the outputs. \n",
        "'''\n",
        "print ('rank * Term Frequency Prob Values for top 20 most frequent terms :{0}'.format(rtermProb)) \n"
      ],
      "execution_count": null,
      "outputs": [
        {
          "output_type": "stream",
          "name": "stdout",
          "text": [
            "rank * Term Frequency Prob Values for top 20 most frequent terms :{'the': 0.04563558762938548, 'to': 0.05512024461398776, 'and': 0.07475218439574982, 'a': 0.09750563243996088, 'you': 0.10236522996876984, 'of': 0.11890158062748067, 'it': 0.13207338588408707, 'is': 0.142201801958848, 'in': 0.12853301227355637, 'that': 0.13456192465161512, 'i': 0.13849078396777056, 'are': 0.1114752046964034, 'do': 0.11339189491633452, 'for': 0.11708398590794475, 'they': 0.12210898371235251, 'have': 0.12501271092679186, 'your': 0.125374313059925, 'or': 0.12743500519618467, 'be': 0.1297767693022393, 'not': 0.13407910533399614}\n"
          ]
        }
      ]
    },
    {
      "cell_type": "markdown",
      "metadata": {
        "id": "38ryJ-tFehst"
      },
      "source": [
        "Question 4.3 (5 points)\n",
        "\n",
        "In the cell below, use the term probability and rank information of all terms in the vocabulary calculated in the previous question, and plot a graph with the log(probability) as y-axis and log(rank) as x-axis where rank corresponds to the frequency ranking of the terms. This must be plotted for all the terms."
      ]
    },
    {
      "cell_type": "code",
      "metadata": {
        "id": "CX8gHg_sfuFu",
        "colab": {
          "base_uri": "https://localhost:8080/",
          "height": 296
        },
        "outputId": "9b69327e-8c2e-4d1e-de48-6a6c6cfac5a0"
      },
      "source": [
        "# enter code here to plot the curve\n",
        "import numpy\n",
        "\n",
        "#rank\n",
        "rank = list(range(1,totNumUniqueTermsIndexCount + 1))\n",
        "logrank = numpy.log10(rank)\n",
        "\n",
        "\n",
        "#probabiltiy \n",
        "res = dict(sorted(termProb.items(), key = itemgetter(1), reverse = True)[:totNumUniqueTermsIndexCount])\n",
        "prob = []\n",
        "for key in res:\n",
        "  termprob = res[key]\n",
        "  prob.append(numpy.log10(termprob))\n",
        "\n",
        "\n",
        "import matplotlib.pyplot as plt\n",
        "plt.plot(logrank, prob)\n",
        "plt.xlabel(\"log(rank)\")\n",
        "plt.ylabel(\"log(probability\")\n",
        "\n"
      ],
      "execution_count": null,
      "outputs": [
        {
          "output_type": "execute_result",
          "data": {
            "text/plain": [
              "Text(0, 0.5, 'log(probability')"
            ]
          },
          "metadata": {},
          "execution_count": 8
        },
        {
          "output_type": "display_data",
          "data": {
            "image/png": "[encoded data removed]",
            "text/plain": [
              "<Figure size 432x288 with 1 Axes>"
            ]
          },
          "metadata": {
            "needs_background": "light"
          }
        }
      ]
    }
  ]
}
